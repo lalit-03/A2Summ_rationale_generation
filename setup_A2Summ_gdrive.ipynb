{
  "nbformat": 4,
  "nbformat_minor": 0,
  "metadata": {
    "colab": {
      "provenance": []
    },
    "kernelspec": {
      "name": "python3",
      "display_name": "Python 3"
    },
    "language_info": {
      "name": "python"
    }
  },
  "cells": [
    {
      "cell_type": "code",
      "execution_count": null,
      "metadata": {
        "colab": {
          "base_uri": "https://localhost:8080/"
        },
        "id": "wUZdjx1OCujB",
        "outputId": "b1666d4e-daa7-4cd6-c62e-8e8cda0b2df6"
      },
      "outputs": [
        {
          "output_type": "stream",
          "name": "stdout",
          "text": [
            "Mounted at /content/drive\n"
          ]
        }
      ],
      "source": [
        "from google.colab import drive\n",
        "drive.mount('/content/drive')"
      ]
    },
    {
      "cell_type": "code",
      "source": [
        "%cd MyDrive\n",
        "!gdown --folder https://drive.google.com/drive/folders/1rqXEIelRzq4mb7NaBk3GXxh7jlfP_Snm"
      ],
      "metadata": {
        "colab": {
          "base_uri": "https://localhost:8080/"
        },
        "id": "QSotQ5_pC1Wf",
        "outputId": "4f0b8e49-4a6f-4a08-d3f3-3ea7aa3bf608"
      },
      "execution_count": null,
      "outputs": [
        {
          "output_type": "stream",
          "name": "stdout",
          "text": [
            "/content/drive/MyDrive\n",
            "Retrieving folder contents\n",
            "Processing file 1uoX3-NAKjZ_Q4Cz4CRoQUxsr4LYBB2EA BLiSS.tar\n",
            "Processing file 1YSrS7bnmJ9yQcff1XnRsQdIahxxIdJCc CNN.tar\n",
            "Processing file 1L-rqa1Bx9ExZLU29OCrDugNTXFLaN5Wh Daily_Mail.tar\n",
            "Processing file 1k05Ea4r-sFN7SqT1UyUk9Zbkbo-hFEHr SumMe.tar\n",
            "Processing file 1uAusPEuGnreTUsqAqnDR7F5JKVaIgzcJ TVSum.tar\n",
            "Retrieving folder contents completed\n",
            "Building directory structure\n",
            "Building directory structure completed\n",
            "Downloading...\n",
            "From (original): https://drive.google.com/uc?id=1uoX3-NAKjZ_Q4Cz4CRoQUxsr4LYBB2EA\n",
            "From (redirected): https://drive.google.com/uc?id=1uoX3-NAKjZ_Q4Cz4CRoQUxsr4LYBB2EA&confirm=t&uuid=e00c09eb-6089-4276-9f7a-cebca523afa1\n",
            "To: /content/drive/MyDrive/data/BLiSS.tar\n",
            "100% 10.6G/10.6G [04:17<00:00, 41.1MB/s]\n",
            "Downloading...\n",
            "From (original): https://drive.google.com/uc?id=1YSrS7bnmJ9yQcff1XnRsQdIahxxIdJCc\n",
            "From (redirected): https://drive.google.com/uc?id=1YSrS7bnmJ9yQcff1XnRsQdIahxxIdJCc&confirm=t&uuid=24489ced-3689-4cac-91d9-320a448e5151\n",
            "To: /content/drive/MyDrive/data/CNN.tar\n",
            "100% 207M/207M [00:03<00:00, 63.6MB/s]\n",
            "Downloading...\n",
            "From (original): https://drive.google.com/uc?id=1L-rqa1Bx9ExZLU29OCrDugNTXFLaN5Wh\n",
            "From (redirected): https://drive.google.com/uc?id=1L-rqa1Bx9ExZLU29OCrDugNTXFLaN5Wh&confirm=t&uuid=391d0b1d-936d-4b29-8ea0-1a5772f211db\n",
            "To: /content/drive/MyDrive/data/Daily_Mail.tar\n",
            "100% 1.26G/1.26G [01:01<00:00, 20.5MB/s]\n",
            "Downloading...\n",
            "From: https://drive.google.com/uc?id=1k05Ea4r-sFN7SqT1UyUk9Zbkbo-hFEHr\n",
            "To: /content/drive/MyDrive/data/SumMe.tar\n",
            "100% 38.6M/38.6M [00:02<00:00, 18.1MB/s]\n",
            "Downloading...\n",
            "From (original): https://drive.google.com/uc?id=1uAusPEuGnreTUsqAqnDR7F5JKVaIgzcJ\n",
            "From (redirected): https://drive.google.com/uc?id=1uAusPEuGnreTUsqAqnDR7F5JKVaIgzcJ&confirm=t&uuid=f3df20d0-c7c3-4344-8def-600d61768c33\n",
            "To: /content/drive/MyDrive/data/TVSum.tar\n",
            "100% 130M/130M [00:18<00:00, 7.18MB/s]\n",
            "Download completed\n"
          ]
        }
      ]
    },
    {
      "cell_type": "code",
      "source": [
        "%cd data"
      ],
      "metadata": {
        "colab": {
          "base_uri": "https://localhost:8080/"
        },
        "id": "HSEpT9X-FWRr",
        "outputId": "faa2a6c1-c281-480b-c404-9a83b6318db9"
      },
      "execution_count": null,
      "outputs": [
        {
          "output_type": "stream",
          "name": "stdout",
          "text": [
            "/content/drive/MyDrive/data\n"
          ]
        }
      ]
    },
    {
      "cell_type": "code",
      "source": [
        "!tar -xvf TVSum.tar\n",
        "!tar -xvf SumMe.tar\n",
        "!tar -xvf CNN.tar\n",
        "!tar -xvf Daily_Mail.tar\n",
        "# Deleted BLiSS.tar from drive"
      ],
      "metadata": {
        "colab": {
          "base_uri": "https://localhost:8080/"
        },
        "id": "QDRU08NLN5H8",
        "outputId": "a1765312-c3c9-4d7d-f096-d1c5bd8b5838"
      },
      "execution_count": null,
      "outputs": [
        {
          "output_type": "stream",
          "name": "stdout",
          "text": [
            "TVSum/\n",
            "TVSum/caption/\n",
            "TVSum/caption/-esJrBWj2d8.txt\n",
            "TVSum/caption/0tmA_C6XwfM.txt\n",
            "TVSum/caption/37rzWOQsNIw.txt\n",
            "TVSum/caption/3eYKfiOEJNs.txt\n",
            "TVSum/caption/4wU_LUjG5Ic.txt\n",
            "TVSum/caption/91IHQYk1IQM.txt\n",
            "TVSum/caption/98MoyGZKHXc.txt\n",
            "TVSum/caption/AwmHb44_ouw.txt\n",
            "TVSum/caption/Bhxk-O1Y7Ho.txt\n",
            "TVSum/caption/E11zDS9XGzg.txt\n",
            "TVSum/caption/EE-bNr36nyA.txt\n",
            "TVSum/caption/EYqVtI9YWJA.txt\n",
            "TVSum/caption/GsAD1KT1xo8.txt\n",
            "TVSum/caption/HT5vyqe0Xaw.txt\n",
            "TVSum/caption/Hl-__g2gn_A.txt\n",
            "TVSum/caption/J0nA4VgnoCo.txt\n",
            "TVSum/caption/JKpqYvAdIsw.txt\n",
            "TVSum/caption/JgHubY5Vw3Y.txt\n",
            "TVSum/caption/LRw_obCPUt0.txt\n",
            "TVSum/caption/NyBmCxDoHJU.txt\n",
            "TVSum/caption/PJrm840pAUI.txt\n",
            "TVSum/caption/RBCABdttQmI.txt\n",
            "TVSum/caption/Se3oxnaPsz0.txt\n",
            "TVSum/caption/VuWGsYPqAX8.txt\n",
            "TVSum/caption/WG0MBPpPC6I.txt\n",
            "TVSum/caption/WxtbjNsCQ8A.txt\n",
            "TVSum/caption/XkqCExn6_Us.txt\n",
            "TVSum/caption/XzYM3PfTM4w.txt\n",
            "TVSum/caption/Yi4Ij2NM7U4.txt\n",
            "TVSum/caption/_xMr-HKMfVA.txt\n",
            "TVSum/caption/akI8YFjEmUw.txt\n",
            "TVSum/caption/b626MiF1ew4.txt\n",
            "TVSum/caption/byxOvuiIJV0.txt\n",
            "TVSum/caption/cjibtmSLxQ4.txt\n",
            "TVSum/caption/eQu1rNs0an0.txt\n",
            "TVSum/caption/fWutDQy1nnY.txt\n",
            "TVSum/caption/gzDbaEs1Rlg.txt\n",
            "TVSum/caption/i3wAGJaaktw.txt\n",
            "TVSum/caption/iVt07TCkFM0.txt\n",
            "TVSum/caption/jcoYJXDG9sw.txt\n",
            "TVSum/caption/kLxoNp-UchI.txt\n",
            "TVSum/caption/oDXZc0tZe04.txt\n",
            "TVSum/caption/qqR6AEXwxoQ.txt\n",
            "TVSum/caption/sTEELN-vY30.txt\n",
            "TVSum/caption/uGu_10sucQo.txt\n",
            "TVSum/caption/vdmoEJ5YbrQ.txt\n",
            "TVSum/caption/xmEERLqJ2kU.txt\n",
            "TVSum/caption/xwqBXPGE9pQ.txt\n",
            "TVSum/caption/xxdtq8mxegs.txt\n",
            "TVSum/caption/z_6gVvQb2d0.txt\n",
            "TVSum/feature/\n",
            "TVSum/feature/eccv16_dataset_tvsum_google_pool5.h5\n",
            "TVSum/feature/text_roberta.npy\n",
            "TVSum/splits.yml\n",
            "SumMe/\n",
            "SumMe/caption/\n",
            "SumMe/caption/Air_Force_One.txt\n",
            "SumMe/caption/Base_jumping.txt\n",
            "SumMe/caption/Bearpark_climbing.txt\n",
            "SumMe/caption/Bike_Polo.txt\n",
            "SumMe/caption/Bus_in_Rock_Tunnel.txt\n",
            "SumMe/caption/Car_railcrossing.txt\n",
            "SumMe/caption/Cockpit_Landing.txt\n",
            "SumMe/caption/Cooking.txt\n",
            "SumMe/caption/Eiffel_Tower.txt\n",
            "SumMe/caption/Excavators_river_crossing.txt\n",
            "SumMe/caption/Fire_Domino.txt\n",
            "SumMe/caption/Jumps.txt\n",
            "SumMe/caption/Kids_playing_in_leaves.txt\n",
            "SumMe/caption/Notre_Dame.txt\n",
            "SumMe/caption/Paintball.txt\n",
            "SumMe/caption/Playing_on_water_slide.txt\n",
            "SumMe/caption/Saving_dolphines.txt\n",
            "SumMe/caption/Scuba.txt\n",
            "SumMe/caption/St_Maarten_Landing.txt\n",
            "SumMe/caption/Statue_of_Liberty.txt\n",
            "SumMe/caption/Uncut_Evening_Flight.txt\n",
            "SumMe/caption/Valparaiso_Downhill.txt\n",
            "SumMe/caption/car_over_camera.txt\n",
            "SumMe/caption/paluma_jump.txt\n",
            "SumMe/caption/playing_ball.txt\n",
            "SumMe/feature/\n",
            "SumMe/feature/eccv16_dataset_summe_google_pool5.h5\n",
            "SumMe/feature/text_roberta.npy\n",
            "SumMe/splits.yml\n",
            "CNN/\n",
            "CNN/annotation/\n",
            "CNN/annotation/test.json\n",
            "CNN/annotation/train.json\n",
            "CNN/feature/\n",
            "CNN/feature/text_roberta_test.npy\n",
            "CNN/feature/text_roberta_train.npy\n",
            "CNN/feature/video_resnet50_test.npy\n",
            "CNN/feature/video_resnet50_train.npy\n",
            "CNN/feature/video_summ_resnet50_test.npy\n",
            "CNN/feature/video_summ_resnet50_train.npy\n",
            "Daily_Mail/\n",
            "Daily_Mail/annotation/\n",
            "Daily_Mail/annotation/test.json\n",
            "Daily_Mail/annotation/train.json\n",
            "Daily_Mail/feature/\n",
            "Daily_Mail/feature/text_roberta_test.npy\n",
            "Daily_Mail/feature/text_roberta_train.npy\n",
            "Daily_Mail/feature/video_resnet50_test.npy\n",
            "Daily_Mail/feature/video_resnet50_train.npy\n",
            "Daily_Mail/feature/video_summ_resnet50_test.npy\n",
            "Daily_Mail/feature/video_summ_resnet50_train.npy\n"
          ]
        }
      ]
    },
    {
      "cell_type": "code",
      "source": [
        "%cd .."
      ],
      "metadata": {
        "colab": {
          "base_uri": "https://localhost:8080/"
        },
        "id": "Kc62aHbsOM43",
        "outputId": "b207283e-2945-4311-af4c-e66dc701395b"
      },
      "execution_count": null,
      "outputs": [
        {
          "output_type": "stream",
          "name": "stdout",
          "text": [
            "/content/drive/MyDrive\n"
          ]
        }
      ]
    },
    {
      "cell_type": "code",
      "source": [
        "!git clone https://github.com/boheumd/A2Summ/"
      ],
      "metadata": {
        "colab": {
          "base_uri": "https://localhost:8080/"
        },
        "id": "MqttFEKZQ9Mh",
        "outputId": "d2d3aba0-3af3-4b2a-9d21-8405cf8ee0b9"
      },
      "execution_count": null,
      "outputs": [
        {
          "output_type": "stream",
          "name": "stdout",
          "text": [
            "Cloning into 'A2Summ'...\n",
            "remote: Enumerating objects: 34, done.\u001b[K\n",
            "remote: Counting objects: 100% (34/34), done.\u001b[K\n",
            "remote: Compressing objects: 100% (24/24), done.\u001b[K\n",
            "remote: Total 34 (delta 9), reused 25 (delta 7), pack-reused 0 (from 0)\u001b[K\n",
            "Receiving objects: 100% (34/34), 696.04 KiB | 12.00 MiB/s, done.\n",
            "Resolving deltas: 100% (9/9), done.\n"
          ]
        }
      ]
    },
    {
      "cell_type": "code",
      "source": [
        "import shutil\n",
        "import os\n",
        "\n",
        "# Check if the 'data' folder exists\n",
        "if os.path.exists('data'):\n",
        "    # Check if A2Summ directory exists\n",
        "    if os.path.exists('A2Summ'):\n",
        "        # Construct the source and destination paths\n",
        "        source_path = 'data'\n",
        "        destination_path = 'A2Summ/data'  # Assuming you want it inside A2Summ\n",
        "\n",
        "        # Move the 'data' folder to the 'A2Summ' directory\n",
        "        try:\n",
        "            shutil.move(source_path, destination_path)\n",
        "            print(f\"Folder 'data' moved to '{destination_path}' successfully.\")\n",
        "        except shutil.Error as e:\n",
        "            print(f\"Error moving the folder: {e}\")\n",
        "        except FileNotFoundError:\n",
        "            print(\"Error: Source folder not found\")\n",
        "    else:\n",
        "        print(\"Error: 'A2Summ' directory not found.\")\n",
        "else:\n",
        "    print(\"Error: 'data' folder not found.\")"
      ],
      "metadata": {
        "colab": {
          "base_uri": "https://localhost:8080/"
        },
        "id": "4QRS9FvfRBc0",
        "outputId": "c1e9f657-8519-4b9b-afad-fd37ea226350"
      },
      "execution_count": null,
      "outputs": [
        {
          "output_type": "stream",
          "name": "stdout",
          "text": [
            "Folder 'data' moved to 'A2Summ/data' successfully.\n"
          ]
        }
      ]
    },
    {
      "cell_type": "code",
      "source": [
        "%cd drive/MyDrive/A2Summ\n",
        "!tar -xvf tvsum50_ver_1_1.tgz"
      ],
      "metadata": {
        "colab": {
          "base_uri": "https://localhost:8080/"
        },
        "id": "ouhMV1O71Uud",
        "outputId": "0162f96c-d9c4-4be8-a017-7a6eda68ac6f"
      },
      "execution_count": null,
      "outputs": [
        {
          "output_type": "stream",
          "name": "stdout",
          "text": [
            "/content/drive/MyDrive/A2Summ\n",
            "./WebscopeReadMe.txt\n",
            "./ydata-tvsum50-v1_1/\n",
            "./ydata-tvsum50-v1_1/README\n",
            "./ydata-tvsum50-v1_1/ydata-tvsum50-data.zip\n",
            "./ydata-tvsum50-v1_1/ydata-tvsum50-matlab.zip\n",
            "./ydata-tvsum50-v1_1/ydata-tvsum50-thumbnail.zip\n",
            "./ydata-tvsum50-v1_1/ydata-tvsum50-video.zip\n"
          ]
        }
      ]
    },
    {
      "cell_type": "code",
      "source": [
        "%cd data/TVSum\n",
        "!wget https://raw.githubusercontent.com/TIBHannover/UnsupervisedVideoSummarization/refs/heads/main/data/TVSum/mapped_video_names.json"
      ],
      "metadata": {
        "colab": {
          "base_uri": "https://localhost:8080/"
        },
        "id": "dATcRwDX2xHO",
        "outputId": "1b1495d8-3885-43c2-ad78-6f39343f1b13"
      },
      "execution_count": null,
      "outputs": [
        {
          "output_type": "stream",
          "name": "stdout",
          "text": [
            "/content/drive/MyDrive/A2Summ/data/TVSum\n",
            "--2025-03-09 07:46:50--  https://raw.githubusercontent.com/TIBHannover/UnsupervisedVideoSummarization/refs/heads/main/data/TVSum/mapped_video_names.json\n",
            "Resolving raw.githubusercontent.com (raw.githubusercontent.com)... 185.199.108.133, 185.199.110.133, 185.199.111.133, ...\n",
            "Connecting to raw.githubusercontent.com (raw.githubusercontent.com)|185.199.108.133|:443... connected.\n",
            "HTTP request sent, awaiting response... 200 OK\n",
            "Length: 1390 (1.4K) [text/plain]\n",
            "Saving to: ‘mapped_video_names.json’\n",
            "\n",
            "mapped_video_names. 100%[===================>]   1.36K  --.-KB/s    in 0.01s   \n",
            "\n",
            "2025-03-09 07:46:50 (118 KB/s) - ‘mapped_video_names.json’ saved [1390/1390]\n",
            "\n"
          ]
        }
      ]
    },
    {
      "cell_type": "code",
      "source": [
        "%cd ../../ydata-tvsum50-v1_1\n",
        "!unzip ydata-tvsum50-video.zip"
      ],
      "metadata": {
        "colab": {
          "base_uri": "https://localhost:8080/"
        },
        "id": "d0XVNveN30RY",
        "outputId": "b9c45552-6c24-4c56-936d-53876858dc07"
      },
      "execution_count": null,
      "outputs": [
        {
          "output_type": "stream",
          "name": "stdout",
          "text": [
            "/content/drive/MyDrive/A2Summ/ydata-tvsum50-v1_1\n",
            "Archive:  ydata-tvsum50-video.zip\n",
            "   creating: video/\n",
            "  inflating: video/-esJrBWj2d8.mp4   \n",
            "  inflating: video/0tmA_C6XwfM.mp4   \n",
            "  inflating: video/37rzWOQsNIw.mp4   \n",
            "  inflating: video/3eYKfiOEJNs.mp4   \n",
            "  inflating: video/4wU_LUjG5Ic.mp4   \n",
            "  inflating: video/91IHQYk1IQM.mp4   \n",
            "  inflating: video/98MoyGZKHXc.mp4   \n",
            "  inflating: video/_xMr-HKMfVA.mp4   \n",
            "  inflating: video/akI8YFjEmUw.mp4   \n",
            "  inflating: video/AwmHb44_ouw.mp4   \n",
            "  inflating: video/b626MiF1ew4.mp4   \n",
            "  inflating: video/Bhxk-O1Y7Ho.mp4   \n",
            "  inflating: video/byxOvuiIJV0.mp4   \n",
            "  inflating: video/cjibtmSLxQ4.mp4   \n",
            "  inflating: video/E11zDS9XGzg.mp4   \n",
            "  inflating: video/EE-bNr36nyA.mp4   \n",
            "  inflating: video/eQu1rNs0an0.mp4   \n",
            "  inflating: video/EYqVtI9YWJA.mp4   \n",
            "  inflating: video/fWutDQy1nnY.mp4   \n",
            "  inflating: video/GsAD1KT1xo8.mp4   \n",
            "  inflating: video/gzDbaEs1Rlg.mp4   \n",
            "  inflating: video/Hl-__g2gn_A.mp4   \n",
            "  inflating: video/HT5vyqe0Xaw.mp4   \n",
            "  inflating: video/i3wAGJaaktw.mp4   \n",
            "  inflating: video/iVt07TCkFM0.mp4   \n",
            "  inflating: video/J0nA4VgnoCo.mp4   \n",
            "  inflating: video/jcoYJXDG9sw.mp4   \n",
            "  inflating: video/JgHubY5Vw3Y.mp4   \n",
            "  inflating: video/JKpqYvAdIsw.mp4   \n",
            "  inflating: video/kLxoNp-UchI.mp4   \n",
            "  inflating: video/LRw_obCPUt0.mp4   \n",
            "  inflating: video/NyBmCxDoHJU.mp4   \n",
            "  inflating: video/oDXZc0tZe04.mp4   \n",
            "  inflating: video/PJrm840pAUI.mp4   \n",
            "  inflating: video/qqR6AEXwxoQ.mp4   \n",
            "  inflating: video/RBCABdttQmI.mp4   \n",
            "  inflating: video/Se3oxnaPsz0.mp4   \n",
            "  inflating: video/sTEELN-vY30.mp4   \n",
            "  inflating: video/uGu_10sucQo.mp4   \n",
            "  inflating: video/vdmoEJ5YbrQ.mp4   \n",
            "  inflating: video/VuWGsYPqAX8.mp4   \n",
            "  inflating: video/WG0MBPpPC6I.mp4   \n",
            "  inflating: video/WxtbjNsCQ8A.mp4   \n",
            "  inflating: video/XkqCExn6_Us.mp4   \n",
            "  inflating: video/xmEERLqJ2kU.mp4   \n",
            "  inflating: video/xwqBXPGE9pQ.mp4   \n",
            "  inflating: video/xxdtq8mxegs.mp4   \n",
            "  inflating: video/XzYM3PfTM4w.mp4   \n",
            "  inflating: video/Yi4Ij2NM7U4.mp4   \n",
            "  inflating: video/z_6gVvQb2d0.mp4   \n"
          ]
        }
      ]
    },
    {
      "cell_type": "code",
      "source": [],
      "metadata": {
        "id": "WI5dFkvi3_tV"
      },
      "execution_count": null,
      "outputs": []
    }
  ]
}